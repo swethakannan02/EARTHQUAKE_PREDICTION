{
  "nbformat": 4,
  "nbformat_minor": 0,
  "metadata": {
    "colab": {
      "provenance": [],
      "include_colab_link": true
    },
    "kernelspec": {
      "name": "python3",
      "display_name": "Python 3"
    },
    "language_info": {
      "name": "python"
    }
  },
  "cells": [
    {
      "cell_type": "markdown",
      "metadata": {
        "id": "view-in-github",
        "colab_type": "text"
      },
      "source": [
        "<a href=\"https://colab.research.google.com/github/swethakannan02/EARTHQUAKE_PREDICTION/blob/main/EarthquakePrediction.ipynb\" target=\"_parent\"><img src=\"https://colab.research.google.com/assets/colab-badge.svg\" alt=\"Open In Colab\"/></a>"
      ]
    },
    {
      "cell_type": "code",
      "execution_count": null,
      "metadata": {
        "id": "6a8LEn0AkTYF"
      },
      "outputs": [],
      "source": [
        "import pandas as pd\n",
        "df=pd.read_csv(\"earthquake.csv\")"
      ]
    },
    {
      "cell_type": "code",
      "source": [
        "df"
      ],
      "metadata": {
        "colab": {
          "base_uri": "https://localhost:8080/",
          "height": 817
        },
        "id": "HfaB4RWol7Dp",
        "outputId": "063049fc-2d94-4a68-e3d4-052a68427467"
      },
      "execution_count": null,
      "outputs": [
        {
          "output_type": "execute_result",
          "data": {
            "text/plain": [
              "                           time   latitude   longitude      depth   mag  \\\n",
              "0      2023-05-04T11:38:17.699Z  35.251000  -98.046667    5.39000  2.74   \n",
              "1      2023-05-04T11:08:48.290Z  18.486667  -67.413500   17.35000  2.83   \n",
              "2      2023-05-04T10:13:34.790Z  19.188667 -155.488007    5.68000  2.74   \n",
              "3      2023-05-04T10:06:01.978Z  10.447100  125.141200   10.00000  4.80   \n",
              "4      2023-05-04T09:52:50.400Z  63.667500  -19.118700   10.00000  4.50   \n",
              "...                         ...        ...         ...        ...   ...   \n",
              "19995  2022-08-01T20:21:48.319Z  40.164200 -119.628400    7.80000  2.70   \n",
              "19996  2022-08-01T19:54:34.131Z  -6.200400  130.010800  142.49100  4.40   \n",
              "19997  2022-08-01T19:41:40.886Z  53.471400 -165.349200   35.00000  3.00   \n",
              "19998  2022-08-01T19:20:58.670Z  19.242333 -155.387333   33.44000  3.70   \n",
              "19999  2022-08-01T19:08:39.045Z  32.265015 -101.916682    6.89624  2.70   \n",
              "\n",
              "      magType   nst     gap      dmin     rms  ...                   updated  \\\n",
              "0          ml  94.0   48.00  0.040492  0.2100  ...  2023-05-04T14:11:33.012Z   \n",
              "1          md   8.0  246.00  0.119300  0.1200  ...  2023-05-04T11:43:12.250Z   \n",
              "2          ml  36.0  153.00       NaN  0.1800  ...  2023-05-04T10:19:05.660Z   \n",
              "3          mb  56.0  122.00  3.384000  1.0100  ...  2023-05-04T10:59:15.682Z   \n",
              "4          mb  49.0  113.00  1.452000  0.7300  ...  2023-05-04T10:16:10.040Z   \n",
              "...       ...   ...     ...       ...     ...  ...                       ...   \n",
              "19995      ml  18.0   65.79  0.080000  0.1485  ...  2022-10-12T14:49:40.040Z   \n",
              "19996      mb  18.0   98.00  2.184000  0.9600  ...  2022-10-12T14:51:20.040Z   \n",
              "19997      ml  21.0  221.00  0.702000  0.3200  ...  2022-10-12T14:52:20.040Z   \n",
              "19998      ml  51.0  141.00       NaN  0.1300  ...  2022-10-12T14:49:39.040Z   \n",
              "19999      ml  23.0   61.00  0.028641  0.2000  ...  2022-10-12T14:49:39.040Z   \n",
              "\n",
              "                                 place        type horizontalError depthError  \\\n",
              "0       10 km NW of Pocasset, Oklahoma  earthquake             NaN   0.400000   \n",
              "1                                  NaN  earthquake        0.780000   0.410000   \n",
              "2           1 km SSW of P?hala, Hawaii  earthquake        0.510000   0.600000   \n",
              "3      9 km SSW of Silago, Philippines  earthquake        5.930000   1.886000   \n",
              "4      55 km E of Hvolsvöllur, Iceland  earthquake       10.420000   1.934000   \n",
              "...                                ...         ...             ...        ...   \n",
              "19995     23 km N of Sutcliffe, Nevada  earthquake             NaN   1.700000   \n",
              "19996                        Banda Sea  earthquake        9.360000  11.667000   \n",
              "19997      78 km SSE of Akutan, Alaska  earthquake        3.480000   2.000000   \n",
              "19998      10 km ENE of P?hala, Hawaii  earthquake        0.450000   0.550000   \n",
              "19999       19 km NW of Stanton, Texas  earthquake        0.928361   1.389223   \n",
              "\n",
              "       magError  magNst     status  locationSource magSource  \n",
              "0      0.250000    45.0   reviewed              ok        ok  \n",
              "1      0.026201     4.0   reviewed              pr        pr  \n",
              "2      2.030000    21.0  automatic              hv        hv  \n",
              "3      0.058000    93.0   reviewed              us        us  \n",
              "4      0.054000   100.0   reviewed              us        us  \n",
              "...         ...     ...        ...             ...       ...  \n",
              "19995  0.270000    10.0   reviewed              nn        nn  \n",
              "19996  0.220000     6.0   reviewed              us        us  \n",
              "19997  0.105000    12.0   reviewed              us        us  \n",
              "19998  0.156217    39.0   reviewed              hv        hv  \n",
              "19999  0.200000    18.0   reviewed              tx        tx  \n",
              "\n",
              "[20000 rows x 22 columns]"
            ],
            "text/html": [
              "\n",
              "  <div id=\"df-e4355fa2-a812-4fcb-8f84-811d710902d5\">\n",
              "    <div class=\"colab-df-container\">\n",
              "      <div>\n",
              "<style scoped>\n",
              "    .dataframe tbody tr th:only-of-type {\n",
              "        vertical-align: middle;\n",
              "    }\n",
              "\n",
              "    .dataframe tbody tr th {\n",
              "        vertical-align: top;\n",
              "    }\n",
              "\n",
              "    .dataframe thead th {\n",
              "        text-align: right;\n",
              "    }\n",
              "</style>\n",
              "<table border=\"1\" class=\"dataframe\">\n",
              "  <thead>\n",
              "    <tr style=\"text-align: right;\">\n",
              "      <th></th>\n",
              "      <th>time</th>\n",
              "      <th>latitude</th>\n",
              "      <th>longitude</th>\n",
              "      <th>depth</th>\n",
              "      <th>mag</th>\n",
              "      <th>magType</th>\n",
              "      <th>nst</th>\n",
              "      <th>gap</th>\n",
              "      <th>dmin</th>\n",
              "      <th>rms</th>\n",
              "      <th>...</th>\n",
              "      <th>updated</th>\n",
              "      <th>place</th>\n",
              "      <th>type</th>\n",
              "      <th>horizontalError</th>\n",
              "      <th>depthError</th>\n",
              "      <th>magError</th>\n",
              "      <th>magNst</th>\n",
              "      <th>status</th>\n",
              "      <th>locationSource</th>\n",
              "      <th>magSource</th>\n",
              "    </tr>\n",
              "  </thead>\n",
              "  <tbody>\n",
              "    <tr>\n",
              "      <th>0</th>\n",
              "      <td>2023-05-04T11:38:17.699Z</td>\n",
              "      <td>35.251000</td>\n",
              "      <td>-98.046667</td>\n",
              "      <td>5.39000</td>\n",
              "      <td>2.74</td>\n",
              "      <td>ml</td>\n",
              "      <td>94.0</td>\n",
              "      <td>48.00</td>\n",
              "      <td>0.040492</td>\n",
              "      <td>0.2100</td>\n",
              "      <td>...</td>\n",
              "      <td>2023-05-04T14:11:33.012Z</td>\n",
              "      <td>10 km NW of Pocasset, Oklahoma</td>\n",
              "      <td>earthquake</td>\n",
              "      <td>NaN</td>\n",
              "      <td>0.400000</td>\n",
              "      <td>0.250000</td>\n",
              "      <td>45.0</td>\n",
              "      <td>reviewed</td>\n",
              "      <td>ok</td>\n",
              "      <td>ok</td>\n",
              "    </tr>\n",
              "    <tr>\n",
              "      <th>1</th>\n",
              "      <td>2023-05-04T11:08:48.290Z</td>\n",
              "      <td>18.486667</td>\n",
              "      <td>-67.413500</td>\n",
              "      <td>17.35000</td>\n",
              "      <td>2.83</td>\n",
              "      <td>md</td>\n",
              "      <td>8.0</td>\n",
              "      <td>246.00</td>\n",
              "      <td>0.119300</td>\n",
              "      <td>0.1200</td>\n",
              "      <td>...</td>\n",
              "      <td>2023-05-04T11:43:12.250Z</td>\n",
              "      <td>NaN</td>\n",
              "      <td>earthquake</td>\n",
              "      <td>0.780000</td>\n",
              "      <td>0.410000</td>\n",
              "      <td>0.026201</td>\n",
              "      <td>4.0</td>\n",
              "      <td>reviewed</td>\n",
              "      <td>pr</td>\n",
              "      <td>pr</td>\n",
              "    </tr>\n",
              "    <tr>\n",
              "      <th>2</th>\n",
              "      <td>2023-05-04T10:13:34.790Z</td>\n",
              "      <td>19.188667</td>\n",
              "      <td>-155.488007</td>\n",
              "      <td>5.68000</td>\n",
              "      <td>2.74</td>\n",
              "      <td>ml</td>\n",
              "      <td>36.0</td>\n",
              "      <td>153.00</td>\n",
              "      <td>NaN</td>\n",
              "      <td>0.1800</td>\n",
              "      <td>...</td>\n",
              "      <td>2023-05-04T10:19:05.660Z</td>\n",
              "      <td>1 km SSW of P?hala, Hawaii</td>\n",
              "      <td>earthquake</td>\n",
              "      <td>0.510000</td>\n",
              "      <td>0.600000</td>\n",
              "      <td>2.030000</td>\n",
              "      <td>21.0</td>\n",
              "      <td>automatic</td>\n",
              "      <td>hv</td>\n",
              "      <td>hv</td>\n",
              "    </tr>\n",
              "    <tr>\n",
              "      <th>3</th>\n",
              "      <td>2023-05-04T10:06:01.978Z</td>\n",
              "      <td>10.447100</td>\n",
              "      <td>125.141200</td>\n",
              "      <td>10.00000</td>\n",
              "      <td>4.80</td>\n",
              "      <td>mb</td>\n",
              "      <td>56.0</td>\n",
              "      <td>122.00</td>\n",
              "      <td>3.384000</td>\n",
              "      <td>1.0100</td>\n",
              "      <td>...</td>\n",
              "      <td>2023-05-04T10:59:15.682Z</td>\n",
              "      <td>9 km SSW of Silago, Philippines</td>\n",
              "      <td>earthquake</td>\n",
              "      <td>5.930000</td>\n",
              "      <td>1.886000</td>\n",
              "      <td>0.058000</td>\n",
              "      <td>93.0</td>\n",
              "      <td>reviewed</td>\n",
              "      <td>us</td>\n",
              "      <td>us</td>\n",
              "    </tr>\n",
              "    <tr>\n",
              "      <th>4</th>\n",
              "      <td>2023-05-04T09:52:50.400Z</td>\n",
              "      <td>63.667500</td>\n",
              "      <td>-19.118700</td>\n",
              "      <td>10.00000</td>\n",
              "      <td>4.50</td>\n",
              "      <td>mb</td>\n",
              "      <td>49.0</td>\n",
              "      <td>113.00</td>\n",
              "      <td>1.452000</td>\n",
              "      <td>0.7300</td>\n",
              "      <td>...</td>\n",
              "      <td>2023-05-04T10:16:10.040Z</td>\n",
              "      <td>55 km E of Hvolsvöllur, Iceland</td>\n",
              "      <td>earthquake</td>\n",
              "      <td>10.420000</td>\n",
              "      <td>1.934000</td>\n",
              "      <td>0.054000</td>\n",
              "      <td>100.0</td>\n",
              "      <td>reviewed</td>\n",
              "      <td>us</td>\n",
              "      <td>us</td>\n",
              "    </tr>\n",
              "    <tr>\n",
              "      <th>...</th>\n",
              "      <td>...</td>\n",
              "      <td>...</td>\n",
              "      <td>...</td>\n",
              "      <td>...</td>\n",
              "      <td>...</td>\n",
              "      <td>...</td>\n",
              "      <td>...</td>\n",
              "      <td>...</td>\n",
              "      <td>...</td>\n",
              "      <td>...</td>\n",
              "      <td>...</td>\n",
              "      <td>...</td>\n",
              "      <td>...</td>\n",
              "      <td>...</td>\n",
              "      <td>...</td>\n",
              "      <td>...</td>\n",
              "      <td>...</td>\n",
              "      <td>...</td>\n",
              "      <td>...</td>\n",
              "      <td>...</td>\n",
              "      <td>...</td>\n",
              "    </tr>\n",
              "    <tr>\n",
              "      <th>19995</th>\n",
              "      <td>2022-08-01T20:21:48.319Z</td>\n",
              "      <td>40.164200</td>\n",
              "      <td>-119.628400</td>\n",
              "      <td>7.80000</td>\n",
              "      <td>2.70</td>\n",
              "      <td>ml</td>\n",
              "      <td>18.0</td>\n",
              "      <td>65.79</td>\n",
              "      <td>0.080000</td>\n",
              "      <td>0.1485</td>\n",
              "      <td>...</td>\n",
              "      <td>2022-10-12T14:49:40.040Z</td>\n",
              "      <td>23 km N of Sutcliffe, Nevada</td>\n",
              "      <td>earthquake</td>\n",
              "      <td>NaN</td>\n",
              "      <td>1.700000</td>\n",
              "      <td>0.270000</td>\n",
              "      <td>10.0</td>\n",
              "      <td>reviewed</td>\n",
              "      <td>nn</td>\n",
              "      <td>nn</td>\n",
              "    </tr>\n",
              "    <tr>\n",
              "      <th>19996</th>\n",
              "      <td>2022-08-01T19:54:34.131Z</td>\n",
              "      <td>-6.200400</td>\n",
              "      <td>130.010800</td>\n",
              "      <td>142.49100</td>\n",
              "      <td>4.40</td>\n",
              "      <td>mb</td>\n",
              "      <td>18.0</td>\n",
              "      <td>98.00</td>\n",
              "      <td>2.184000</td>\n",
              "      <td>0.9600</td>\n",
              "      <td>...</td>\n",
              "      <td>2022-10-12T14:51:20.040Z</td>\n",
              "      <td>Banda Sea</td>\n",
              "      <td>earthquake</td>\n",
              "      <td>9.360000</td>\n",
              "      <td>11.667000</td>\n",
              "      <td>0.220000</td>\n",
              "      <td>6.0</td>\n",
              "      <td>reviewed</td>\n",
              "      <td>us</td>\n",
              "      <td>us</td>\n",
              "    </tr>\n",
              "    <tr>\n",
              "      <th>19997</th>\n",
              "      <td>2022-08-01T19:41:40.886Z</td>\n",
              "      <td>53.471400</td>\n",
              "      <td>-165.349200</td>\n",
              "      <td>35.00000</td>\n",
              "      <td>3.00</td>\n",
              "      <td>ml</td>\n",
              "      <td>21.0</td>\n",
              "      <td>221.00</td>\n",
              "      <td>0.702000</td>\n",
              "      <td>0.3200</td>\n",
              "      <td>...</td>\n",
              "      <td>2022-10-12T14:52:20.040Z</td>\n",
              "      <td>78 km SSE of Akutan, Alaska</td>\n",
              "      <td>earthquake</td>\n",
              "      <td>3.480000</td>\n",
              "      <td>2.000000</td>\n",
              "      <td>0.105000</td>\n",
              "      <td>12.0</td>\n",
              "      <td>reviewed</td>\n",
              "      <td>us</td>\n",
              "      <td>us</td>\n",
              "    </tr>\n",
              "    <tr>\n",
              "      <th>19998</th>\n",
              "      <td>2022-08-01T19:20:58.670Z</td>\n",
              "      <td>19.242333</td>\n",
              "      <td>-155.387333</td>\n",
              "      <td>33.44000</td>\n",
              "      <td>3.70</td>\n",
              "      <td>ml</td>\n",
              "      <td>51.0</td>\n",
              "      <td>141.00</td>\n",
              "      <td>NaN</td>\n",
              "      <td>0.1300</td>\n",
              "      <td>...</td>\n",
              "      <td>2022-10-12T14:49:39.040Z</td>\n",
              "      <td>10 km ENE of P?hala, Hawaii</td>\n",
              "      <td>earthquake</td>\n",
              "      <td>0.450000</td>\n",
              "      <td>0.550000</td>\n",
              "      <td>0.156217</td>\n",
              "      <td>39.0</td>\n",
              "      <td>reviewed</td>\n",
              "      <td>hv</td>\n",
              "      <td>hv</td>\n",
              "    </tr>\n",
              "    <tr>\n",
              "      <th>19999</th>\n",
              "      <td>2022-08-01T19:08:39.045Z</td>\n",
              "      <td>32.265015</td>\n",
              "      <td>-101.916682</td>\n",
              "      <td>6.89624</td>\n",
              "      <td>2.70</td>\n",
              "      <td>ml</td>\n",
              "      <td>23.0</td>\n",
              "      <td>61.00</td>\n",
              "      <td>0.028641</td>\n",
              "      <td>0.2000</td>\n",
              "      <td>...</td>\n",
              "      <td>2022-10-12T14:49:39.040Z</td>\n",
              "      <td>19 km NW of Stanton, Texas</td>\n",
              "      <td>earthquake</td>\n",
              "      <td>0.928361</td>\n",
              "      <td>1.389223</td>\n",
              "      <td>0.200000</td>\n",
              "      <td>18.0</td>\n",
              "      <td>reviewed</td>\n",
              "      <td>tx</td>\n",
              "      <td>tx</td>\n",
              "    </tr>\n",
              "  </tbody>\n",
              "</table>\n",
              "<p>20000 rows × 22 columns</p>\n",
              "</div>\n",
              "      <button class=\"colab-df-convert\" onclick=\"convertToInteractive('df-e4355fa2-a812-4fcb-8f84-811d710902d5')\"\n",
              "              title=\"Convert this dataframe to an interactive table.\"\n",
              "              style=\"display:none;\">\n",
              "        \n",
              "  <svg xmlns=\"http://www.w3.org/2000/svg\" height=\"24px\"viewBox=\"0 0 24 24\"\n",
              "       width=\"24px\">\n",
              "    <path d=\"M0 0h24v24H0V0z\" fill=\"none\"/>\n",
              "    <path d=\"M18.56 5.44l.94 2.06.94-2.06 2.06-.94-2.06-.94-.94-2.06-.94 2.06-2.06.94zm-11 1L8.5 8.5l.94-2.06 2.06-.94-2.06-.94L8.5 2.5l-.94 2.06-2.06.94zm10 10l.94 2.06.94-2.06 2.06-.94-2.06-.94-.94-2.06-.94 2.06-2.06.94z\"/><path d=\"M17.41 7.96l-1.37-1.37c-.4-.4-.92-.59-1.43-.59-.52 0-1.04.2-1.43.59L10.3 9.45l-7.72 7.72c-.78.78-.78 2.05 0 2.83L4 21.41c.39.39.9.59 1.41.59.51 0 1.02-.2 1.41-.59l7.78-7.78 2.81-2.81c.8-.78.8-2.07 0-2.86zM5.41 20L4 18.59l7.72-7.72 1.47 1.35L5.41 20z\"/>\n",
              "  </svg>\n",
              "      </button>\n",
              "      \n",
              "  <style>\n",
              "    .colab-df-container {\n",
              "      display:flex;\n",
              "      flex-wrap:wrap;\n",
              "      gap: 12px;\n",
              "    }\n",
              "\n",
              "    .colab-df-convert {\n",
              "      background-color: #E8F0FE;\n",
              "      border: none;\n",
              "      border-radius: 50%;\n",
              "      cursor: pointer;\n",
              "      display: none;\n",
              "      fill: #1967D2;\n",
              "      height: 32px;\n",
              "      padding: 0 0 0 0;\n",
              "      width: 32px;\n",
              "    }\n",
              "\n",
              "    .colab-df-convert:hover {\n",
              "      background-color: #E2EBFA;\n",
              "      box-shadow: 0px 1px 2px rgba(60, 64, 67, 0.3), 0px 1px 3px 1px rgba(60, 64, 67, 0.15);\n",
              "      fill: #174EA6;\n",
              "    }\n",
              "\n",
              "    [theme=dark] .colab-df-convert {\n",
              "      background-color: #3B4455;\n",
              "      fill: #D2E3FC;\n",
              "    }\n",
              "\n",
              "    [theme=dark] .colab-df-convert:hover {\n",
              "      background-color: #434B5C;\n",
              "      box-shadow: 0px 1px 3px 1px rgba(0, 0, 0, 0.15);\n",
              "      filter: drop-shadow(0px 1px 2px rgba(0, 0, 0, 0.3));\n",
              "      fill: #FFFFFF;\n",
              "    }\n",
              "  </style>\n",
              "\n",
              "      <script>\n",
              "        const buttonEl =\n",
              "          document.querySelector('#df-e4355fa2-a812-4fcb-8f84-811d710902d5 button.colab-df-convert');\n",
              "        buttonEl.style.display =\n",
              "          google.colab.kernel.accessAllowed ? 'block' : 'none';\n",
              "\n",
              "        async function convertToInteractive(key) {\n",
              "          const element = document.querySelector('#df-e4355fa2-a812-4fcb-8f84-811d710902d5');\n",
              "          const dataTable =\n",
              "            await google.colab.kernel.invokeFunction('convertToInteractive',\n",
              "                                                     [key], {});\n",
              "          if (!dataTable) return;\n",
              "\n",
              "          const docLinkHtml = 'Like what you see? Visit the ' +\n",
              "            '<a target=\"_blank\" href=https://colab.research.google.com/notebooks/data_table.ipynb>data table notebook</a>'\n",
              "            + ' to learn more about interactive tables.';\n",
              "          element.innerHTML = '';\n",
              "          dataTable['output_type'] = 'display_data';\n",
              "          await google.colab.output.renderOutput(dataTable, element);\n",
              "          const docLink = document.createElement('div');\n",
              "          docLink.innerHTML = docLinkHtml;\n",
              "          element.appendChild(docLink);\n",
              "        }\n",
              "      </script>\n",
              "    </div>\n",
              "  </div>\n",
              "  "
            ]
          },
          "metadata": {},
          "execution_count": 2
        }
      ]
    },
    {
      "cell_type": "code",
      "source": [
        "df.info()"
      ],
      "metadata": {
        "colab": {
          "base_uri": "https://localhost:8080/"
        },
        "id": "kLlg-1Sll_ay",
        "outputId": "1429513d-e5a1-4afa-afca-48664afd5fda"
      },
      "execution_count": null,
      "outputs": [
        {
          "output_type": "stream",
          "name": "stdout",
          "text": [
            "<class 'pandas.core.frame.DataFrame'>\n",
            "RangeIndex: 20000 entries, 0 to 19999\n",
            "Data columns (total 22 columns):\n",
            " #   Column           Non-Null Count  Dtype  \n",
            "---  ------           --------------  -----  \n",
            " 0   time             20000 non-null  object \n",
            " 1   latitude         20000 non-null  float64\n",
            " 2   longitude        20000 non-null  float64\n",
            " 3   depth            20000 non-null  float64\n",
            " 4   mag              20000 non-null  float64\n",
            " 5   magType          20000 non-null  object \n",
            " 6   nst              18660 non-null  float64\n",
            " 7   gap              18660 non-null  float64\n",
            " 8   dmin             17650 non-null  float64\n",
            " 9   rms              19999 non-null  float64\n",
            " 10  net              20000 non-null  object \n",
            " 11  id               20000 non-null  object \n",
            " 12  updated          20000 non-null  object \n",
            " 13  place            18813 non-null  object \n",
            " 14  type             20000 non-null  object \n",
            " 15  horizontalError  18507 non-null  float64\n",
            " 16  depthError       19999 non-null  float64\n",
            " 17  magError         18462 non-null  float64\n",
            " 18  magNst           18538 non-null  float64\n",
            " 19  status           20000 non-null  object \n",
            " 20  locationSource   20000 non-null  object \n",
            " 21  magSource        20000 non-null  object \n",
            "dtypes: float64(12), object(10)\n",
            "memory usage: 3.4+ MB\n"
          ]
        }
      ]
    },
    {
      "cell_type": "markdown",
      "source": [
        "PREPROCESSING THE DATA"
      ],
      "metadata": {
        "id": "FXwxL3BKnHna"
      }
    },
    {
      "cell_type": "code",
      "source": [
        "df['time'] = pd.to_datetime(df['time'])\n",
        "df['time'] = df['time'].apply(lambda x: int(x.timestamp()))\n",
        "df['time']"
      ],
      "metadata": {
        "id": "7dZa1uK0mW-c",
        "colab": {
          "base_uri": "https://localhost:8080/"
        },
        "outputId": "1e3b5807-7ac9-4d61-a599-4fff10c14f24"
      },
      "execution_count": null,
      "outputs": [
        {
          "output_type": "execute_result",
          "data": {
            "text/plain": [
              "0        1683200297\n",
              "1        1683198528\n",
              "2        1683195214\n",
              "3        1683194761\n",
              "4        1683193970\n",
              "            ...    \n",
              "19995    1659385308\n",
              "19996    1659383674\n",
              "19997    1659382900\n",
              "19998    1659381658\n",
              "19999    1659380919\n",
              "Name: time, Length: 20000, dtype: int64"
            ]
          },
          "metadata": {},
          "execution_count": 4
        }
      ]
    },
    {
      "cell_type": "code",
      "source": [
        "df.isnull().sum()"
      ],
      "metadata": {
        "colab": {
          "base_uri": "https://localhost:8080/"
        },
        "id": "oUMxtizVmb27",
        "outputId": "87ef2f3c-65a9-4f55-81fa-f302eba95816"
      },
      "execution_count": null,
      "outputs": [
        {
          "output_type": "execute_result",
          "data": {
            "text/plain": [
              "time                  0\n",
              "latitude              0\n",
              "longitude             0\n",
              "depth                 0\n",
              "mag                   0\n",
              "magType               0\n",
              "nst                1340\n",
              "gap                1340\n",
              "dmin               2350\n",
              "rms                   1\n",
              "net                   0\n",
              "id                    0\n",
              "updated               0\n",
              "place              1187\n",
              "type                  0\n",
              "horizontalError    1493\n",
              "depthError            1\n",
              "magError           1538\n",
              "magNst             1462\n",
              "status                0\n",
              "locationSource        0\n",
              "magSource             0\n",
              "dtype: int64"
            ]
          },
          "metadata": {},
          "execution_count": 5
        }
      ]
    },
    {
      "cell_type": "code",
      "source": [
        "df=df.dropna()"
      ],
      "metadata": {
        "id": "2GFyI8F9nM5b"
      },
      "execution_count": null,
      "outputs": []
    },
    {
      "cell_type": "code",
      "source": [
        "df.isnull().sum()"
      ],
      "metadata": {
        "colab": {
          "base_uri": "https://localhost:8080/"
        },
        "id": "d9-7x3WrnPgm",
        "outputId": "c9a04d0c-f077-412a-aa55-3bfbf175406a"
      },
      "execution_count": null,
      "outputs": [
        {
          "output_type": "execute_result",
          "data": {
            "text/plain": [
              "time               0\n",
              "latitude           0\n",
              "longitude          0\n",
              "depth              0\n",
              "mag                0\n",
              "magType            0\n",
              "nst                0\n",
              "gap                0\n",
              "dmin               0\n",
              "rms                0\n",
              "net                0\n",
              "id                 0\n",
              "updated            0\n",
              "place              0\n",
              "type               0\n",
              "horizontalError    0\n",
              "depthError         0\n",
              "magError           0\n",
              "magNst             0\n",
              "status             0\n",
              "locationSource     0\n",
              "magSource          0\n",
              "dtype: int64"
            ]
          },
          "metadata": {},
          "execution_count": 7
        }
      ]
    },
    {
      "cell_type": "code",
      "source": [
        "df.info()"
      ],
      "metadata": {
        "colab": {
          "base_uri": "https://localhost:8080/"
        },
        "id": "6jqt3mTtnUeJ",
        "outputId": "f21827ed-4c60-4d78-80f7-07e276eceee1"
      },
      "execution_count": null,
      "outputs": [
        {
          "output_type": "stream",
          "name": "stdout",
          "text": [
            "<class 'pandas.core.frame.DataFrame'>\n",
            "Int64Index: 16168 entries, 3 to 19999\n",
            "Data columns (total 22 columns):\n",
            " #   Column           Non-Null Count  Dtype  \n",
            "---  ------           --------------  -----  \n",
            " 0   time             16168 non-null  int64  \n",
            " 1   latitude         16168 non-null  float64\n",
            " 2   longitude        16168 non-null  float64\n",
            " 3   depth            16168 non-null  float64\n",
            " 4   mag              16168 non-null  float64\n",
            " 5   magType          16168 non-null  object \n",
            " 6   nst              16168 non-null  float64\n",
            " 7   gap              16168 non-null  float64\n",
            " 8   dmin             16168 non-null  float64\n",
            " 9   rms              16168 non-null  float64\n",
            " 10  net              16168 non-null  object \n",
            " 11  id               16168 non-null  object \n",
            " 12  updated          16168 non-null  object \n",
            " 13  place            16168 non-null  object \n",
            " 14  type             16168 non-null  object \n",
            " 15  horizontalError  16168 non-null  float64\n",
            " 16  depthError       16168 non-null  float64\n",
            " 17  magError         16168 non-null  float64\n",
            " 18  magNst           16168 non-null  float64\n",
            " 19  status           16168 non-null  object \n",
            " 20  locationSource   16168 non-null  object \n",
            " 21  magSource        16168 non-null  object \n",
            "dtypes: float64(12), int64(1), object(9)\n",
            "memory usage: 2.8+ MB\n"
          ]
        }
      ]
    },
    {
      "cell_type": "code",
      "source": [
        "df=df.drop(['magType','net','id','updated','place','type','status','locationSource','magSource'],axis=1)"
      ],
      "metadata": {
        "id": "gyY6qE6tnnVG"
      },
      "execution_count": null,
      "outputs": []
    },
    {
      "cell_type": "code",
      "source": [
        "\n",
        "df.info()"
      ],
      "metadata": {
        "colab": {
          "base_uri": "https://localhost:8080/"
        },
        "id": "LWOGJb9Yn8yh",
        "outputId": "7a52c53c-e9d5-4ae3-f835-4e52a25b7c07"
      },
      "execution_count": null,
      "outputs": [
        {
          "output_type": "stream",
          "name": "stdout",
          "text": [
            "<class 'pandas.core.frame.DataFrame'>\n",
            "Int64Index: 16168 entries, 3 to 19999\n",
            "Data columns (total 13 columns):\n",
            " #   Column           Non-Null Count  Dtype  \n",
            "---  ------           --------------  -----  \n",
            " 0   time             16168 non-null  int64  \n",
            " 1   latitude         16168 non-null  float64\n",
            " 2   longitude        16168 non-null  float64\n",
            " 3   depth            16168 non-null  float64\n",
            " 4   mag              16168 non-null  float64\n",
            " 5   nst              16168 non-null  float64\n",
            " 6   gap              16168 non-null  float64\n",
            " 7   dmin             16168 non-null  float64\n",
            " 8   rms              16168 non-null  float64\n",
            " 9   horizontalError  16168 non-null  float64\n",
            " 10  depthError       16168 non-null  float64\n",
            " 11  magError         16168 non-null  float64\n",
            " 12  magNst           16168 non-null  float64\n",
            "dtypes: float64(12), int64(1)\n",
            "memory usage: 1.7 MB\n"
          ]
        }
      ]
    },
    {
      "cell_type": "markdown",
      "source": [
        "IMPORTANCE OF FEATURES\n"
      ],
      "metadata": {
        "id": "RwzRtPwhnY3e"
      }
    },
    {
      "cell_type": "code",
      "source": [
        "from sklearn.linear_model import LinearRegression\n",
        "x = df.drop([\"mag\"] ,axis=1)\n",
        "y = df[\"mag\"]\n",
        "model = LinearRegression()\n",
        "model.fit(x, y)\n",
        "importance = model.coef_\n",
        "indices = importance.argsort()[::-1]\n",
        "for i in indices:\n",
        "    print(x.columns[i], \":\", importance[i])"
      ],
      "metadata": {
        "colab": {
          "base_uri": "https://localhost:8080/"
        },
        "id": "G06x7oXPnW2o",
        "outputId": "ff62320d-c709-40ca-c794-3516bbca4691"
      },
      "execution_count": null,
      "outputs": [
        {
          "output_type": "stream",
          "name": "stdout",
          "text": [
            "rms : 0.7088268789466559\n",
            "horizontalError : 0.04530336800969181\n",
            "dmin : 0.011807265502694557\n",
            "nst : 0.008592253756205152\n",
            "longitude : 0.0015585538624650012\n",
            "depthError : 0.0011791326971563464\n",
            "time : -1.2961713886934054e-10\n",
            "magNst : -8.626559824369642e-05\n",
            "depth : -0.0005661912736270806\n",
            "gap : -0.0011165181501285489\n",
            "latitude : -0.008792565820184745\n",
            "magError : -0.14743830956507767\n"
          ]
        }
      ]
    },
    {
      "cell_type": "code",
      "source": [
        "import matplotlib.pyplot as plt\n",
        "import seaborn as sns\n",
        "corr_matrix=df.corr()\n",
        "sns.heatmap(corr_matrix, annot=True, cmap=\"crest\",square=True)\n",
        "plt.gcf().set_size_inches(10, 10)\n",
        "plt.show ()\n"
      ],
      "metadata": {
        "colab": {
          "base_uri": "https://localhost:8080/",
          "height": 850
        },
        "id": "WrjY4E7Rnffy",
        "outputId": "164b6d6c-4a9c-425d-87e4-a5332fbd4997"
      },
      "execution_count": null,
      "outputs": [
        {
          "output_type": "display_data",
          "data": {
            "text/plain": [
              "<Figure size 1000x1000 with 2 Axes>"
            ],
            "image/png": "[encoded data removed]"
          },
          "metadata": {}
        }
      ]
    },
    {
      "cell_type": "code",
      "source": [
        "from sklearn.feature_selection import RFE\n",
        "from sklearn.linear_model import LinearRegression\n",
        "lr = LinearRegression()\n",
        "x = df.drop([\"mag\"] ,axis=1)\n",
        "y = df[\"mag\"]\n",
        "rfe = RFE(estimator=lr, n_features_to_select=5)\n",
        "rfe.fit(x, y)\n",
        "ranks = rfe.ranking_\n",
        "print(ranks)"
      ],
      "metadata": {
        "colab": {
          "base_uri": "https://localhost:8080/"
        },
        "id": "qplvzVeToHqi",
        "outputId": "7bdfa0a8-0046-4c77-e34d-d35b13e655e9"
      },
      "execution_count": null,
      "outputs": [
        {
          "output_type": "stream",
          "name": "stdout",
          "text": [
            "[8 2 4 6 1 5 1 1 1 3 1 7]\n"
          ]
        }
      ]
    },
    {
      "cell_type": "code",
      "source": [
        "selected_features = rfe.support_\n",
        "rfe_ranking = rfe.ranking_\n",
        "feature_names = x.columns\n",
        "features_ranked = sorted(zip(map(lambda x: round(x, 4), rfe_ranking), feature_names))\n",
        "for rank, feature in features_ranked:\n",
        "    print(f\"Rank: {rank} - Feature: {feature}\")"
      ],
      "metadata": {
        "colab": {
          "base_uri": "https://localhost:8080/"
        },
        "id": "3w8kJyPsoYUe",
        "outputId": "8bdbde59-5e2b-4ea8-c7ea-04d58b10f771"
      },
      "execution_count": null,
      "outputs": [
        {
          "output_type": "stream",
          "name": "stdout",
          "text": [
            "Rank: 1 - Feature: dmin\n",
            "Rank: 1 - Feature: horizontalError\n",
            "Rank: 1 - Feature: magError\n",
            "Rank: 1 - Feature: nst\n",
            "Rank: 1 - Feature: rms\n",
            "Rank: 2 - Feature: latitude\n",
            "Rank: 3 - Feature: depthError\n",
            "Rank: 4 - Feature: longitude\n",
            "Rank: 5 - Feature: gap\n",
            "Rank: 6 - Feature: depth\n",
            "Rank: 7 - Feature: magNst\n",
            "Rank: 8 - Feature: time\n"
          ]
        }
      ]
    },
    {
      "cell_type": "markdown",
      "source": [
        "SPLITTING THE DATA\n"
      ],
      "metadata": {
        "id": "5OIkb8JyqrVV"
      }
    },
    {
      "cell_type": "code",
      "source": [
        "df"
      ],
      "metadata": {
        "colab": {
          "base_uri": "https://localhost:8080/",
          "height": 423
        },
        "id": "7VQysQ5NMXq5",
        "outputId": "32275623-9e23-4a57-cfa2-e6bbd8f40a3e"
      },
      "execution_count": null,
      "outputs": [
        {
          "output_type": "execute_result",
          "data": {
            "text/plain": [
              "             time   latitude   longitude      depth   mag   nst    gap  \\\n",
              "3      1683194761  10.447100  125.141200   10.00000  4.80  56.0  122.0   \n",
              "4      1683193970  63.667500  -19.118700   10.00000  4.50  49.0  113.0   \n",
              "6      1683189632 -29.597300 -177.079300   35.00000  4.80  33.0  120.0   \n",
              "7      1683189139  18.621800  -68.769100  163.00000  4.13  13.0  138.0   \n",
              "9      1683187331  54.093900 -162.771000   35.00000  4.00  82.0  156.0   \n",
              "...           ...        ...         ...        ...   ...   ...    ...   \n",
              "19992  1659387338 -58.179500  -23.730500   10.00000  4.70  47.0   52.0   \n",
              "19994  1659387183  18.572400  146.683400   33.31900  4.20  25.0   97.0   \n",
              "19996  1659383674  -6.200400  130.010800  142.49100  4.40  18.0   98.0   \n",
              "19997  1659382900  53.471400 -165.349200   35.00000  3.00  21.0  221.0   \n",
              "19999  1659380919  32.265015 -101.916682    6.89624  2.70  23.0   61.0   \n",
              "\n",
              "            dmin   rms  horizontalError  depthError  magError  magNst  \n",
              "3       3.384000  1.01         5.930000    1.886000     0.058    93.0  \n",
              "4       1.452000  0.73        10.420000    1.934000     0.054   100.0  \n",
              "6       0.806000  0.46         4.760000    1.931000     0.100    31.0  \n",
              "7       0.402400  0.66         4.750000    2.610000     0.130    10.0  \n",
              "9       0.852000  0.70         6.400000    1.961000     0.102    26.0  \n",
              "...          ...   ...              ...         ...       ...     ...  \n",
              "19992  16.023000  1.07        10.890000    1.564000     0.093    35.0  \n",
              "19994   5.253000  1.24        13.780000    4.625000     0.152    12.0  \n",
              "19996   2.184000  0.96         9.360000   11.667000     0.220     6.0  \n",
              "19997   0.702000  0.32         3.480000    2.000000     0.105    12.0  \n",
              "19999   0.028641  0.20         0.928361    1.389223     0.200    18.0  \n",
              "\n",
              "[16168 rows x 13 columns]"
            ],
            "text/html": [
              "\n",
              "  <div id=\"df-9960fe6c-0122-4ab6-a6b8-c4f728db0023\">\n",
              "    <div class=\"colab-df-container\">\n",
              "      <div>\n",
              "<style scoped>\n",
              "    .dataframe tbody tr th:only-of-type {\n",
              "        vertical-align: middle;\n",
              "    }\n",
              "\n",
              "    .dataframe tbody tr th {\n",
              "        vertical-align: top;\n",
              "    }\n",
              "\n",
              "    .dataframe thead th {\n",
              "        text-align: right;\n",
              "    }\n",
              "</style>\n",
              "<table border=\"1\" class=\"dataframe\">\n",
              "  <thead>\n",
              "    <tr style=\"text-align: right;\">\n",
              "      <th></th>\n",
              "      <th>time</th>\n",
              "      <th>latitude</th>\n",
              "      <th>longitude</th>\n",
              "      <th>depth</th>\n",
              "      <th>mag</th>\n",
              "      <th>nst</th>\n",
              "      <th>gap</th>\n",
              "      <th>dmin</th>\n",
              "      <th>rms</th>\n",
              "      <th>horizontalError</th>\n",
              "      <th>depthError</th>\n",
              "      <th>magError</th>\n",
              "      <th>magNst</th>\n",
              "    </tr>\n",
              "  </thead>\n",
              "  <tbody>\n",
              "    <tr>\n",
              "      <th>3</th>\n",
              "      <td>1683194761</td>\n",
              "      <td>10.447100</td>\n",
              "      <td>125.141200</td>\n",
              "      <td>10.00000</td>\n",
              "      <td>4.80</td>\n",
              "      <td>56.0</td>\n",
              "      <td>122.0</td>\n",
              "      <td>3.384000</td>\n",
              "      <td>1.01</td>\n",
              "      <td>5.930000</td>\n",
              "      <td>1.886000</td>\n",
              "      <td>0.058</td>\n",
              "      <td>93.0</td>\n",
              "    </tr>\n",
              "    <tr>\n",
              "      <th>4</th>\n",
              "      <td>1683193970</td>\n",
              "      <td>63.667500</td>\n",
              "      <td>-19.118700</td>\n",
              "      <td>10.00000</td>\n",
              "      <td>4.50</td>\n",
              "      <td>49.0</td>\n",
              "      <td>113.0</td>\n",
              "      <td>1.452000</td>\n",
              "      <td>0.73</td>\n",
              "      <td>10.420000</td>\n",
              "      <td>1.934000</td>\n",
              "      <td>0.054</td>\n",
              "      <td>100.0</td>\n",
              "    </tr>\n",
              "    <tr>\n",
              "      <th>6</th>\n",
              "      <td>1683189632</td>\n",
              "      <td>-29.597300</td>\n",
              "      <td>-177.079300</td>\n",
              "      <td>35.00000</td>\n",
              "      <td>4.80</td>\n",
              "      <td>33.0</td>\n",
              "      <td>120.0</td>\n",
              "      <td>0.806000</td>\n",
              "      <td>0.46</td>\n",
              "      <td>4.760000</td>\n",
              "      <td>1.931000</td>\n",
              "      <td>0.100</td>\n",
              "      <td>31.0</td>\n",
              "    </tr>\n",
              "    <tr>\n",
              "      <th>7</th>\n",
              "      <td>1683189139</td>\n",
              "      <td>18.621800</td>\n",
              "      <td>-68.769100</td>\n",
              "      <td>163.00000</td>\n",
              "      <td>4.13</td>\n",
              "      <td>13.0</td>\n",
              "      <td>138.0</td>\n",
              "      <td>0.402400</td>\n",
              "      <td>0.66</td>\n",
              "      <td>4.750000</td>\n",
              "      <td>2.610000</td>\n",
              "      <td>0.130</td>\n",
              "      <td>10.0</td>\n",
              "    </tr>\n",
              "    <tr>\n",
              "      <th>9</th>\n",
              "      <td>1683187331</td>\n",
              "      <td>54.093900</td>\n",
              "      <td>-162.771000</td>\n",
              "      <td>35.00000</td>\n",
              "      <td>4.00</td>\n",
              "      <td>82.0</td>\n",
              "      <td>156.0</td>\n",
              "      <td>0.852000</td>\n",
              "      <td>0.70</td>\n",
              "      <td>6.400000</td>\n",
              "      <td>1.961000</td>\n",
              "      <td>0.102</td>\n",
              "      <td>26.0</td>\n",
              "    </tr>\n",
              "    <tr>\n",
              "      <th>...</th>\n",
              "      <td>...</td>\n",
              "      <td>...</td>\n",
              "      <td>...</td>\n",
              "      <td>...</td>\n",
              "      <td>...</td>\n",
              "      <td>...</td>\n",
              "      <td>...</td>\n",
              "      <td>...</td>\n",
              "      <td>...</td>\n",
              "      <td>...</td>\n",
              "      <td>...</td>\n",
              "      <td>...</td>\n",
              "      <td>...</td>\n",
              "    </tr>\n",
              "    <tr>\n",
              "      <th>19992</th>\n",
              "      <td>1659387338</td>\n",
              "      <td>-58.179500</td>\n",
              "      <td>-23.730500</td>\n",
              "      <td>10.00000</td>\n",
              "      <td>4.70</td>\n",
              "      <td>47.0</td>\n",
              "      <td>52.0</td>\n",
              "      <td>16.023000</td>\n",
              "      <td>1.07</td>\n",
              "      <td>10.890000</td>\n",
              "      <td>1.564000</td>\n",
              "      <td>0.093</td>\n",
              "      <td>35.0</td>\n",
              "    </tr>\n",
              "    <tr>\n",
              "      <th>19994</th>\n",
              "      <td>1659387183</td>\n",
              "      <td>18.572400</td>\n",
              "      <td>146.683400</td>\n",
              "      <td>33.31900</td>\n",
              "      <td>4.20</td>\n",
              "      <td>25.0</td>\n",
              "      <td>97.0</td>\n",
              "      <td>5.253000</td>\n",
              "      <td>1.24</td>\n",
              "      <td>13.780000</td>\n",
              "      <td>4.625000</td>\n",
              "      <td>0.152</td>\n",
              "      <td>12.0</td>\n",
              "    </tr>\n",
              "    <tr>\n",
              "      <th>19996</th>\n",
              "      <td>1659383674</td>\n",
              "      <td>-6.200400</td>\n",
              "      <td>130.010800</td>\n",
              "      <td>142.49100</td>\n",
              "      <td>4.40</td>\n",
              "      <td>18.0</td>\n",
              "      <td>98.0</td>\n",
              "      <td>2.184000</td>\n",
              "      <td>0.96</td>\n",
              "      <td>9.360000</td>\n",
              "      <td>11.667000</td>\n",
              "      <td>0.220</td>\n",
              "      <td>6.0</td>\n",
              "    </tr>\n",
              "    <tr>\n",
              "      <th>19997</th>\n",
              "      <td>1659382900</td>\n",
              "      <td>53.471400</td>\n",
              "      <td>-165.349200</td>\n",
              "      <td>35.00000</td>\n",
              "      <td>3.00</td>\n",
              "      <td>21.0</td>\n",
              "      <td>221.0</td>\n",
              "      <td>0.702000</td>\n",
              "      <td>0.32</td>\n",
              "      <td>3.480000</td>\n",
              "      <td>2.000000</td>\n",
              "      <td>0.105</td>\n",
              "      <td>12.0</td>\n",
              "    </tr>\n",
              "    <tr>\n",
              "      <th>19999</th>\n",
              "      <td>1659380919</td>\n",
              "      <td>32.265015</td>\n",
              "      <td>-101.916682</td>\n",
              "      <td>6.89624</td>\n",
              "      <td>2.70</td>\n",
              "      <td>23.0</td>\n",
              "      <td>61.0</td>\n",
              "      <td>0.028641</td>\n",
              "      <td>0.20</td>\n",
              "      <td>0.928361</td>\n",
              "      <td>1.389223</td>\n",
              "      <td>0.200</td>\n",
              "      <td>18.0</td>\n",
              "    </tr>\n",
              "  </tbody>\n",
              "</table>\n",
              "<p>16168 rows × 13 columns</p>\n",
              "</div>\n",
              "      <button class=\"colab-df-convert\" onclick=\"convertToInteractive('df-9960fe6c-0122-4ab6-a6b8-c4f728db0023')\"\n",
              "              title=\"Convert this dataframe to an interactive table.\"\n",
              "              style=\"display:none;\">\n",
              "        \n",
              "  <svg xmlns=\"http://www.w3.org/2000/svg\" height=\"24px\"viewBox=\"0 0 24 24\"\n",
              "       width=\"24px\">\n",
              "    <path d=\"M0 0h24v24H0V0z\" fill=\"none\"/>\n",
              "    <path d=\"M18.56 5.44l.94 2.06.94-2.06 2.06-.94-2.06-.94-.94-2.06-.94 2.06-2.06.94zm-11 1L8.5 8.5l.94-2.06 2.06-.94-2.06-.94L8.5 2.5l-.94 2.06-2.06.94zm10 10l.94 2.06.94-2.06 2.06-.94-2.06-.94-.94-2.06-.94 2.06-2.06.94z\"/><path d=\"M17.41 7.96l-1.37-1.37c-.4-.4-.92-.59-1.43-.59-.52 0-1.04.2-1.43.59L10.3 9.45l-7.72 7.72c-.78.78-.78 2.05 0 2.83L4 21.41c.39.39.9.59 1.41.59.51 0 1.02-.2 1.41-.59l7.78-7.78 2.81-2.81c.8-.78.8-2.07 0-2.86zM5.41 20L4 18.59l7.72-7.72 1.47 1.35L5.41 20z\"/>\n",
              "  </svg>\n",
              "      </button>\n",
              "      \n",
              "  <style>\n",
              "    .colab-df-container {\n",
              "      display:flex;\n",
              "      flex-wrap:wrap;\n",
              "      gap: 12px;\n",
              "    }\n",
              "\n",
              "    .colab-df-convert {\n",
              "      background-color: #E8F0FE;\n",
              "      border: none;\n",
              "      border-radius: 50%;\n",
              "      cursor: pointer;\n",
              "      display: none;\n",
              "      fill: #1967D2;\n",
              "      height: 32px;\n",
              "      padding: 0 0 0 0;\n",
              "      width: 32px;\n",
              "    }\n",
              "\n",
              "    .colab-df-convert:hover {\n",
              "      background-color: #E2EBFA;\n",
              "      box-shadow: 0px 1px 2px rgba(60, 64, 67, 0.3), 0px 1px 3px 1px rgba(60, 64, 67, 0.15);\n",
              "      fill: #174EA6;\n",
              "    }\n",
              "\n",
              "    [theme=dark] .colab-df-convert {\n",
              "      background-color: #3B4455;\n",
              "      fill: #D2E3FC;\n",
              "    }\n",
              "\n",
              "    [theme=dark] .colab-df-convert:hover {\n",
              "      background-color: #434B5C;\n",
              "      box-shadow: 0px 1px 3px 1px rgba(0, 0, 0, 0.15);\n",
              "      filter: drop-shadow(0px 1px 2px rgba(0, 0, 0, 0.3));\n",
              "      fill: #FFFFFF;\n",
              "    }\n",
              "  </style>\n",
              "\n",
              "      <script>\n",
              "        const buttonEl =\n",
              "          document.querySelector('#df-9960fe6c-0122-4ab6-a6b8-c4f728db0023 button.colab-df-convert');\n",
              "        buttonEl.style.display =\n",
              "          google.colab.kernel.accessAllowed ? 'block' : 'none';\n",
              "\n",
              "        async function convertToInteractive(key) {\n",
              "          const element = document.querySelector('#df-9960fe6c-0122-4ab6-a6b8-c4f728db0023');\n",
              "          const dataTable =\n",
              "            await google.colab.kernel.invokeFunction('convertToInteractive',\n",
              "                                                     [key], {});\n",
              "          if (!dataTable) return;\n",
              "\n",
              "          const docLinkHtml = 'Like what you see? Visit the ' +\n",
              "            '<a target=\"_blank\" href=https://colab.research.google.com/notebooks/data_table.ipynb>data table notebook</a>'\n",
              "            + ' to learn more about interactive tables.';\n",
              "          element.innerHTML = '';\n",
              "          dataTable['output_type'] = 'display_data';\n",
              "          await google.colab.output.renderOutput(dataTable, element);\n",
              "          const docLink = document.createElement('div');\n",
              "          docLink.innerHTML = docLinkHtml;\n",
              "          element.appendChild(docLink);\n",
              "        }\n",
              "      </script>\n",
              "    </div>\n",
              "  </div>\n",
              "  "
            ]
          },
          "metadata": {},
          "execution_count": 15
        }
      ]
    },
    {
      "cell_type": "code",
      "source": [
        "\n",
        "x = df[[\"time\", \"latitude\", \"longitude\", \"depth\", \"nst\", \"gap\", \"dmin\", \"rms\"]]\n",
        "y = df[\"mag\"]"
      ],
      "metadata": {
        "id": "ZYYWDCeTqe_o"
      },
      "execution_count": null,
      "outputs": []
    },
    {
      "cell_type": "code",
      "source": [
        "from sklearn.model_selection import train_test_split\n",
        "x_train,x_test,y_train,y_test=train_test_split(x,y,test_size=0.3,random_state=42)\n",
        "from sklearn.preprocessing import StandardScaler\n",
        "scaler = StandardScaler()\n",
        "x_train_scaled = scaler.fit_transform(x_train)\n",
        "x_test_scaled = scaler.transform(x_test)"
      ],
      "metadata": {
        "id": "ZlLRQ463q-e0"
      },
      "execution_count": null,
      "outputs": []
    },
    {
      "cell_type": "markdown",
      "source": [
        "# LINEAR REGRESSION\n"
      ],
      "metadata": {
        "id": "MY2agOJ1srHj"
      }
    },
    {
      "cell_type": "code",
      "source": [
        "from sklearn.linear_model import LinearRegression\n",
        "from sklearn.metrics import r2_score,mean_squared_error\n",
        "model = LinearRegression()\n",
        "model.fit(x_train,y_train)"
      ],
      "metadata": {
        "colab": {
          "base_uri": "https://localhost:8080/",
          "height": 74
        },
        "id": "s4gbzn7cqneg",
        "outputId": "61b99d6f-5e56-4b67-9c75-aed2f6f4b1ea"
      },
      "execution_count": null,
      "outputs": [
        {
          "output_type": "execute_result",
          "data": {
            "text/plain": [
              "LinearRegression()"
            ],
            "text/html": [
              "<style>#sk-container-id-1 {color: black;background-color: white;}#sk-container-id-1 pre{padding: 0;}#sk-container-id-1 div.sk-toggleable {background-color: white;}#sk-container-id-1 label.sk-toggleable__label {cursor: pointer;display: block;width: 100%;margin-bottom: 0;padding: 0.3em;box-sizing: border-box;text-align: center;}#sk-container-id-1 label.sk-toggleable__label-arrow:before {content: \"▸\";float: left;margin-right: 0.25em;color: #696969;}#sk-container-id-1 label.sk-toggleable__label-arrow:hover:before {color: black;}#sk-container-id-1 div.sk-estimator:hover label.sk-toggleable__label-arrow:before {color: black;}#sk-container-id-1 div.sk-toggleable__content {max-height: 0;max-width: 0;overflow: hidden;text-align: left;background-color: #f0f8ff;}#sk-container-id-1 div.sk-toggleable__content pre {margin: 0.2em;color: black;border-radius: 0.25em;background-color: #f0f8ff;}#sk-container-id-1 input.sk-toggleable__control:checked~div.sk-toggleable__content {max-height: 200px;max-width: 100%;overflow: auto;}#sk-container-id-1 input.sk-toggleable__control:checked~label.sk-toggleable__label-arrow:before {content: \"▾\";}#sk-container-id-1 div.sk-estimator input.sk-toggleable__control:checked~label.sk-toggleable__label {background-color: #d4ebff;}#sk-container-id-1 div.sk-label input.sk-toggleable__control:checked~label.sk-toggleable__label {background-color: #d4ebff;}#sk-container-id-1 input.sk-hidden--visually {border: 0;clip: rect(1px 1px 1px 1px);clip: rect(1px, 1px, 1px, 1px);height: 1px;margin: -1px;overflow: hidden;padding: 0;position: absolute;width: 1px;}#sk-container-id-1 div.sk-estimator {font-family: monospace;background-color: #f0f8ff;border: 1px dotted black;border-radius: 0.25em;box-sizing: border-box;margin-bottom: 0.5em;}#sk-container-id-1 div.sk-estimator:hover {background-color: #d4ebff;}#sk-container-id-1 div.sk-parallel-item::after {content: \"\";width: 100%;border-bottom: 1px solid gray;flex-grow: 1;}#sk-container-id-1 div.sk-label:hover label.sk-toggleable__label {background-color: #d4ebff;}#sk-container-id-1 div.sk-serial::before {content: \"\";position: absolute;border-left: 1px solid gray;box-sizing: border-box;top: 0;bottom: 0;left: 50%;z-index: 0;}#sk-container-id-1 div.sk-serial {display: flex;flex-direction: column;align-items: center;background-color: white;padding-right: 0.2em;padding-left: 0.2em;position: relative;}#sk-container-id-1 div.sk-item {position: relative;z-index: 1;}#sk-container-id-1 div.sk-parallel {display: flex;align-items: stretch;justify-content: center;background-color: white;position: relative;}#sk-container-id-1 div.sk-item::before, #sk-container-id-1 div.sk-parallel-item::before {content: \"\";position: absolute;border-left: 1px solid gray;box-sizing: border-box;top: 0;bottom: 0;left: 50%;z-index: -1;}#sk-container-id-1 div.sk-parallel-item {display: flex;flex-direction: column;z-index: 1;position: relative;background-color: white;}#sk-container-id-1 div.sk-parallel-item:first-child::after {align-self: flex-end;width: 50%;}#sk-container-id-1 div.sk-parallel-item:last-child::after {align-self: flex-start;width: 50%;}#sk-container-id-1 div.sk-parallel-item:only-child::after {width: 0;}#sk-container-id-1 div.sk-dashed-wrapped {border: 1px dashed gray;margin: 0 0.4em 0.5em 0.4em;box-sizing: border-box;padding-bottom: 0.4em;background-color: white;}#sk-container-id-1 div.sk-label label {font-family: monospace;font-weight: bold;display: inline-block;line-height: 1.2em;}#sk-container-id-1 div.sk-label-container {text-align: center;}#sk-container-id-1 div.sk-container {/* jupyter's `normalize.less` sets `[hidden] { display: none; }` but bootstrap.min.css set `[hidden] { display: none !important; }` so we also need the `!important` here to be able to override the default hidden behavior on the sphinx rendered scikit-learn.org. See: https://github.com/scikit-learn/scikit-learn/issues/21755 */display: inline-block !important;position: relative;}#sk-container-id-1 div.sk-text-repr-fallback {display: none;}</style><div id=\"sk-container-id-1\" class=\"sk-top-container\"><div class=\"sk-text-repr-fallback\"><pre>LinearRegression()</pre><b>In a Jupyter environment, please rerun this cell to show the HTML representation or trust the notebook. <br />On GitHub, the HTML representation is unable to render, please try loading this page with nbviewer.org.</b></div><div class=\"sk-container\" hidden><div class=\"sk-item\"><div class=\"sk-estimator sk-toggleable\"><input class=\"sk-toggleable__control sk-hidden--visually\" id=\"sk-estimator-id-1\" type=\"checkbox\" checked><label for=\"sk-estimator-id-1\" class=\"sk-toggleable__label sk-toggleable__label-arrow\">LinearRegression</label><div class=\"sk-toggleable__content\"><pre>LinearRegression()</pre></div></div></div></div></div>"
            ]
          },
          "metadata": {},
          "execution_count": 18
        }
      ]
    },
    {
      "cell_type": "code",
      "source": [
        "y_pred=model.predict(x_test)\n",
        "mse1=mean_squared_error(y_test,y_pred)\n",
        "r21 = r2_score(y_test, y_pred)\n",
        "print(\"mse=\",mse1)\n",
        "print(\"r2=\",r21)"
      ],
      "metadata": {
        "colab": {
          "base_uri": "https://localhost:8080/"
        },
        "id": "kA6EKI5jq8nr",
        "outputId": "e67f810d-1471-4579-92ec-c27cfcda5f36"
      },
      "execution_count": null,
      "outputs": [
        {
          "output_type": "stream",
          "name": "stdout",
          "text": [
            "mse= 0.1831831824153392\n",
            "r2= 0.7332667471115051\n"
          ]
        }
      ]
    },
    {
      "cell_type": "markdown",
      "source": [
        "time = \"2023-05-04T11:38:17.699Z\", latitude = 35.251, longitude = -98.04666667, depth = 5.39, nst = 94, gap = 48, dmin = 0.040492054, rms = 0.21"
      ],
      "metadata": {
        "id": "DAPR2a1QsVd3"
      }
    },
    {
      "cell_type": "code",
      "source": [
        "new_data = [[1670170697.699,35.251, -98.04666667, 5.39, 94, 48, 0.040492054, 0.21]]\n",
        "predicted_mag = model.predict(new_data)\n",
        "print(\"Predicted magnitude:\", predicted_mag)"
      ],
      "metadata": {
        "colab": {
          "base_uri": "https://localhost:8080/"
        },
        "id": "6KLVak4NpXJr",
        "outputId": "26456e70-0aa8-4ce5-c811-c9ee69c2a66b"
      },
      "execution_count": null,
      "outputs": [
        {
          "output_type": "stream",
          "name": "stdout",
          "text": [
            "Predicted magnitude: [3.77070405]\n"
          ]
        },
        {
          "output_type": "stream",
          "name": "stderr",
          "text": [
            "/usr/local/lib/python3.10/dist-packages/sklearn/base.py:439: UserWarning: X does not have valid feature names, but LinearRegression was fitted with feature names\n",
            "  warnings.warn(\n"
          ]
        }
      ]
    },
    {
      "cell_type": "markdown",
      "source": [
        "# POLYNOMIAL REGRESSION"
      ],
      "metadata": {
        "id": "m_nQxSbSu3YJ"
      }
    },
    {
      "cell_type": "code",
      "source": [
        "from sklearn.preprocessing import PolynomialFeatures\n",
        "poly = PolynomialFeatures(degree=2)\n",
        "x_train_poly = poly.fit_transform(x_train)\n",
        "x_test_poly = poly.transform(x_test)\n",
        "model = LinearRegression()\n",
        "model.fit(x_train_poly, y_train)\n",
        "y_pred = model.predict(x_test_poly)\n",
        "mse5 = mean_squared_error(y_test, y_pred)\n",
        "r25 = r2_score(y_test, y_pred)\n",
        "print('Mean Squared Error: ', mse5)\n",
        "print('R^2 Score: ', r25)\n"
      ],
      "metadata": {
        "colab": {
          "base_uri": "https://localhost:8080/"
        },
        "id": "g85yiqyZu12a",
        "outputId": "69ea6809-bf05-4e34-88a0-1926bf063349"
      },
      "execution_count": null,
      "outputs": [
        {
          "output_type": "stream",
          "name": "stdout",
          "text": [
            "Mean Squared Error:  0.1570752038633357\n",
            "R^2 Score:  0.7712826061750815\n"
          ]
        }
      ]
    },
    {
      "cell_type": "markdown",
      "source": [
        "# SUPPORT VECTOR REGRESSOR (SVR)\n"
      ],
      "metadata": {
        "id": "USGnEehtsyHa"
      }
    },
    {
      "cell_type": "code",
      "source": [
        "from sklearn.svm import SVR\n",
        "model = SVR()"
      ],
      "metadata": {
        "id": "bIrnMrJ5qRCw"
      },
      "execution_count": null,
      "outputs": []
    },
    {
      "cell_type": "code",
      "source": [
        "model.fit(x_train_scaled,y_train)\n",
        "y_pred=model.predict(x_test_scaled)\n",
        "mse2= mean_squared_error(y_test, y_pred)\n",
        "r22 = r2_score(y_test, y_pred)\n",
        "print('Mean Squared Error: ', mse2)\n",
        "print('R^2 Score: ', r22)"
      ],
      "metadata": {
        "colab": {
          "base_uri": "https://localhost:8080/"
        },
        "id": "1ACLe1kNsxTF",
        "outputId": "ad0144b7-38e4-4377-d85f-8a50d4853e89"
      },
      "execution_count": null,
      "outputs": [
        {
          "output_type": "stream",
          "name": "stdout",
          "text": [
            "Mean Squared Error:  0.08377713468594901\n",
            "R^2 Score:  0.8780120131235938\n"
          ]
        }
      ]
    },
    {
      "cell_type": "code",
      "source": [
        "new_data = [[1670170697.699,35.251, -98.04666667, 5.39, 94, 48, 0.040492054, 0.21]]\n",
        "predicted_mag = model.predict(new_data)\n",
        "print(\"Predicted magnitude:\", predicted_mag)"
      ],
      "metadata": {
        "colab": {
          "base_uri": "https://localhost:8080/"
        },
        "id": "cG_qbchIwmhL",
        "outputId": "3d6b1349-686a-4ea5-9604-8bc5906d8e24"
      },
      "execution_count": null,
      "outputs": [
        {
          "output_type": "stream",
          "name": "stdout",
          "text": [
            "Predicted magnitude: [4.36194882]\n"
          ]
        }
      ]
    },
    {
      "cell_type": "markdown",
      "source": [
        "# RANDOM FOREST REGRESSOR"
      ],
      "metadata": {
        "id": "7A-sSnHUubK5"
      }
    },
    {
      "cell_type": "code",
      "source": [
        "from sklearn.ensemble import RandomForestRegressor\n",
        "rf = RandomForestRegressor(n_estimators=10, random_state=42)\n",
        "rf.fit(x_train, y_train)\n",
        "y_pred = rf.predict(x_test)\n",
        "mse3 = mean_squared_error(y_test, y_pred)\n",
        "r23 = r2_score(y_test, y_pred)\n",
        "\n",
        "print('Mean Squared Error: ', mse3)\n",
        "print('R^2 Score: ', r23)"
      ],
      "metadata": {
        "colab": {
          "base_uri": "https://localhost:8080/"
        },
        "id": "DrxXNv6PtDhI",
        "outputId": "6a18d79a-8d27-475e-8689-99ce03a75370"
      },
      "execution_count": null,
      "outputs": [
        {
          "output_type": "stream",
          "name": "stdout",
          "text": [
            "Mean Squared Error:  0.07946221383436397\n",
            "R^2 Score:  0.8842949745806674\n"
          ]
        }
      ]
    },
    {
      "cell_type": "code",
      "source": [
        "new_data = [[1670170697.699,35.251, -98.04666667, 5.39, 94, 48, 0.040492054, 0.21]]\n",
        "predicted_mag = model.predict(new_data)\n",
        "print(\"Predicted magnitude:\", predicted_mag)"
      ],
      "metadata": {
        "colab": {
          "base_uri": "https://localhost:8080/"
        },
        "id": "jHJH3hoTwow7",
        "outputId": "c80982f0-c206-4da6-8d08-a067c49d762c"
      },
      "execution_count": null,
      "outputs": [
        {
          "output_type": "stream",
          "name": "stdout",
          "text": [
            "Predicted magnitude: [4.36194882]\n"
          ]
        }
      ]
    },
    {
      "cell_type": "markdown",
      "source": [
        "# DECISION TREE REGRESSOR"
      ],
      "metadata": {
        "id": "uNt1xy8UuroZ"
      }
    },
    {
      "cell_type": "code",
      "source": [
        "from sklearn.tree import DecisionTreeRegressor\n",
        "model=DecisionTreeRegressor()\n",
        "model.fit(x_train,y_train)\n",
        "y_pred=model.predict(x_test)\n",
        "mse4= mean_squared_error(y_test, y_pred)\n",
        "r24 = r2_score(y_test, y_pred)\n",
        "\n",
        "print('Mean Squared Error: ', mse4)\n",
        "print('R^2 Score: ', r24)"
      ],
      "metadata": {
        "colab": {
          "base_uri": "https://localhost:8080/"
        },
        "id": "yV0MXX65uLwZ",
        "outputId": "2336a251-5fbf-4b26-959b-38c2486b5985"
      },
      "execution_count": null,
      "outputs": [
        {
          "output_type": "stream",
          "name": "stdout",
          "text": [
            "Mean Squared Error:  0.14127815874064004\n",
            "R^2 Score:  0.7942847026341837\n"
          ]
        }
      ]
    },
    {
      "cell_type": "code",
      "source": [
        "new_data = [[1670170697.699,35.251, -98.04666667, 5.39, 94, 48, 0.040492054, 0.21]]\n",
        "predicted_mag = model.predict(new_data)\n",
        "print(\"Predicted magnitude:\", predicted_mag)"
      ],
      "metadata": {
        "colab": {
          "base_uri": "https://localhost:8080/"
        },
        "id": "lB-Al50bwqyD",
        "outputId": "5bbddddb-53b3-4a79-8133-308fb2e954d2"
      },
      "execution_count": null,
      "outputs": [
        {
          "output_type": "stream",
          "name": "stdout",
          "text": [
            "Predicted magnitude: [3.2]\n"
          ]
        },
        {
          "output_type": "stream",
          "name": "stderr",
          "text": [
            "/usr/local/lib/python3.10/dist-packages/sklearn/base.py:439: UserWarning: X does not have valid feature names, but DecisionTreeRegressor was fitted with feature names\n",
            "  warnings.warn(\n"
          ]
        }
      ]
    },
    {
      "cell_type": "markdown",
      "source": [
        "GRADIENT BOOSTING REGRESSION\n"
      ],
      "metadata": {
        "id": "Rg6cm_7j9069"
      }
    },
    {
      "cell_type": "code",
      "source": [
        "from sklearn.ensemble import GradientBoostingRegressor\n",
        "model = GradientBoostingRegressor()\n",
        "model.fit(x_train, y_train)\n",
        "y_pred = model.predict(x_test)\n",
        "mse5 = mean_squared_error(y_test, y_pred)\n",
        "r25 = r2_score(y_test, y_pred)\n",
        "\n",
        "\n",
        "print('Mean Squared Error:', mse5)\n",
        "print('R-squared:', r25)\n"
      ],
      "metadata": {
        "id": "mzS5CfnrozOn",
        "colab": {
          "base_uri": "https://localhost:8080/"
        },
        "outputId": "3685e6d1-49ff-4607-ea03-21657f83d036"
      },
      "execution_count": null,
      "outputs": [
        {
          "output_type": "stream",
          "name": "stdout",
          "text": [
            "Mean Squared Error: 0.08005108972503393\n",
            "R-squared: 0.883437511685903\n"
          ]
        }
      ]
    },
    {
      "cell_type": "markdown",
      "source": [
        "xgboost\n"
      ],
      "metadata": {
        "id": "4QVB4Gqf4yYm"
      }
    },
    {
      "cell_type": "code",
      "source": [
        "import xgboost as xgb\n",
        "dtrain = xgb.DMatrix(x_train, label=y_train)\n",
        "dtest = xgb.DMatrix(x_test, label=y_test)\n",
        "params = {\n",
        "    'objective': 'reg:squarederror',\n",
        "    'eval_metric': 'rmse'\n",
        "}\n",
        "model = xgb.train(params, dtrain)\n",
        "y_pred = model.predict(dtest)\n",
        "mse = mean_squared_error(y_test, y_pred)\n",
        "r2 = r2_score(y_test, y_pred)\n",
        "\n",
        "print('Mean Squared Error:', mse)\n",
        "print('R-squared:', r2)"
      ],
      "metadata": {
        "colab": {
          "base_uri": "https://localhost:8080/"
        },
        "id": "s0TyM-oXoA2d",
        "outputId": "75bb20be-3dd7-4158-c50c-55819cb65378"
      },
      "execution_count": null,
      "outputs": [
        {
          "output_type": "stream",
          "name": "stdout",
          "text": [
            "Mean Squared Error: 0.08622708142991202\n",
            "R-squared: 0.8744446427143432\n"
          ]
        }
      ]
    },
    {
      "cell_type": "code",
      "source": [
        "scores = {\"Model name\": [\"Linear regression\", \"Polynomial Regression\", \"SVM\", \"Random Forest\", \"Decision Tree\",\"Gradient Boosting Regressor\",\"XGBoost\"], \"mse\": [], \"R^2\": []}\n",
        "scores['mse'].extend([mse1, mse5, mse2, mse3, mse4,mse5,mse])\n",
        "scores['R^2'].extend([r21, r25, r22, r23, r24,r25,r2])\n",
        "scores_df = pd.DataFrame(scores)\n",
        "print(scores_df)"
      ],
      "metadata": {
        "id": "RWKk9KuqoP_e",
        "colab": {
          "base_uri": "https://localhost:8080/"
        },
        "outputId": "6ff4a263-5239-4462-cc1e-d9a031161805"
      },
      "execution_count": null,
      "outputs": [
        {
          "output_type": "stream",
          "name": "stdout",
          "text": [
            "                    Model name       mse       R^2\n",
            "0            Linear regression  0.183183  0.733267\n",
            "1        Polynomial Regression  0.080051  0.883438\n",
            "2                          SVM  0.083777  0.878012\n",
            "3                Random Forest  0.079462  0.884295\n",
            "4                Decision Tree  0.141278  0.794285\n",
            "5  Gradient Boosting Regressor  0.080051  0.883438\n",
            "6                      XGBoost  0.086227  0.874445\n"
          ]
        }
      ]
    },
    {
      "cell_type": "code",
      "source": [
        "best_model = scores_df.sort_values('R^2', ascending=False).iloc[0]['Model name']\n",
        "print(\"The best model according to R^2:\", best_model)\n"
      ],
      "metadata": {
        "colab": {
          "base_uri": "https://localhost:8080/"
        },
        "id": "r_5-Svb6HWnW",
        "outputId": "9fb302fb-b45c-469f-81c7-2890a61cd0a2"
      },
      "execution_count": null,
      "outputs": [
        {
          "output_type": "stream",
          "name": "stdout",
          "text": [
            "The best model according to R^2: Random Forest\n"
          ]
        }
      ]
    },
    {
      "cell_type": "code",
      "source": [
        "best_model = scores_df.sort_values('mse', ascending=True).iloc[0]['Model name']\n",
        "print(\"The best model according to MSE:\", best_model)"
      ],
      "metadata": {
        "colab": {
          "base_uri": "https://localhost:8080/"
        },
        "id": "9r-r06lmHrld",
        "outputId": "f268283a-0308-46e1-a11c-bba8fa8e5335"
      },
      "execution_count": null,
      "outputs": [
        {
          "output_type": "stream",
          "name": "stdout",
          "text": [
            "The best model according to MSE: Random Forest\n"
          ]
        }
      ]
    },
    {
      "cell_type": "code",
      "source": [
        ""
      ],
      "metadata": {
        "id": "_11bhQt1HvJ4"
      },
      "execution_count": null,
      "outputs": []
    }
  ]
}